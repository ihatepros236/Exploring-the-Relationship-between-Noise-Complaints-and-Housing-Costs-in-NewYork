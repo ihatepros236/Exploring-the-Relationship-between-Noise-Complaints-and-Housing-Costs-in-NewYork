{
 "cells": [
  {
   "cell_type": "markdown",
   "metadata": {},
   "source": [
    "# ETL Population Datasets"
   ]
  },
  {
   "cell_type": "code",
   "execution_count": 1,
   "metadata": {},
   "outputs": [],
   "source": [
    "import pandas as pd"
   ]
  },
  {
   "cell_type": "code",
   "execution_count": 2,
   "metadata": {},
   "outputs": [
    {
     "name": "stdout",
     "output_type": "stream",
     "text": [
      "(33144, 3)\n"
     ]
    },
    {
     "data": {
      "text/html": [
       "<div>\n",
       "<style scoped>\n",
       "    .dataframe tbody tr th:only-of-type {\n",
       "        vertical-align: middle;\n",
       "    }\n",
       "\n",
       "    .dataframe tbody tr th {\n",
       "        vertical-align: top;\n",
       "    }\n",
       "\n",
       "    .dataframe thead th {\n",
       "        text-align: right;\n",
       "    }\n",
       "</style>\n",
       "<table border=\"1\" class=\"dataframe\">\n",
       "  <thead>\n",
       "    <tr style=\"text-align: right;\">\n",
       "      <th></th>\n",
       "      <th>pop_zip_code</th>\n",
       "      <th>population</th>\n",
       "      <th>pop_year</th>\n",
       "    </tr>\n",
       "  </thead>\n",
       "  <tbody>\n",
       "    <tr>\n",
       "      <th>1</th>\n",
       "      <td>601</td>\n",
       "      <td>18533.0</td>\n",
       "      <td>2011</td>\n",
       "    </tr>\n",
       "    <tr>\n",
       "      <th>2</th>\n",
       "      <td>602</td>\n",
       "      <td>41930.0</td>\n",
       "      <td>2011</td>\n",
       "    </tr>\n",
       "    <tr>\n",
       "      <th>3</th>\n",
       "      <td>603</td>\n",
       "      <td>54475.0</td>\n",
       "      <td>2011</td>\n",
       "    </tr>\n",
       "    <tr>\n",
       "      <th>4</th>\n",
       "      <td>606</td>\n",
       "      <td>6386.0</td>\n",
       "      <td>2011</td>\n",
       "    </tr>\n",
       "    <tr>\n",
       "      <th>5</th>\n",
       "      <td>610</td>\n",
       "      <td>29111.0</td>\n",
       "      <td>2011</td>\n",
       "    </tr>\n",
       "  </tbody>\n",
       "</table>\n",
       "</div>"
      ],
      "text/plain": [
       "   pop_zip_code  population  pop_year\n",
       "1           601     18533.0      2011\n",
       "2           602     41930.0      2011\n",
       "3           603     54475.0      2011\n",
       "4           606      6386.0      2011\n",
       "5           610     29111.0      2011"
      ]
     },
     "execution_count": 2,
     "metadata": {},
     "output_type": "execute_result"
    }
   ],
   "source": [
    "pop_raw_new = pd.read_csv('Population\\ACSST5Y2011.S0101-Data.csv', low_memory=False)\n",
    "pop_raw_new.rename(columns=pop_raw_new.iloc[0], inplace = True)\n",
    "pop_raw_new = pop_raw_new.tail(-1)\n",
    "pop_raw_new['pop_year'] = 2011\n",
    "pop_raw_new['pop_zip_code'] = pop_raw_new['Geographic Area Name'].str[-5:].astype('int')\n",
    "pop_raw_new['population'] = pop_raw_new['Total!!Estimate!!Total population'].astype('float')\n",
    "pop_raw_new =  pop_raw_new[['pop_zip_code','population','pop_year']]\n",
    "pop_raw = pop_raw_new.copy()\n",
    "print(pop_raw.shape)\n",
    "pop_raw.head()"
   ]
  },
  {
   "cell_type": "code",
   "execution_count": 3,
   "metadata": {
    "scrolled": true
   },
   "outputs": [
    {
     "name": "stdout",
     "output_type": "stream",
     "text": [
      "2012\n",
      "2013\n",
      "2014\n",
      "2015\n",
      "2016\n",
      "2017\n",
      "2018\n",
      "2019\n",
      "2020\n",
      "2021\n",
      "(364998, 3)\n"
     ]
    },
    {
     "data": {
      "text/html": [
       "<div>\n",
       "<style scoped>\n",
       "    .dataframe tbody tr th:only-of-type {\n",
       "        vertical-align: middle;\n",
       "    }\n",
       "\n",
       "    .dataframe tbody tr th {\n",
       "        vertical-align: top;\n",
       "    }\n",
       "\n",
       "    .dataframe thead th {\n",
       "        text-align: right;\n",
       "    }\n",
       "</style>\n",
       "<table border=\"1\" class=\"dataframe\">\n",
       "  <thead>\n",
       "    <tr style=\"text-align: right;\">\n",
       "      <th></th>\n",
       "      <th>pop_zip_code</th>\n",
       "      <th>population</th>\n",
       "      <th>pop_year</th>\n",
       "    </tr>\n",
       "  </thead>\n",
       "  <tbody>\n",
       "    <tr>\n",
       "      <th>0</th>\n",
       "      <td>601</td>\n",
       "      <td>18533.0</td>\n",
       "      <td>2011</td>\n",
       "    </tr>\n",
       "    <tr>\n",
       "      <th>1</th>\n",
       "      <td>602</td>\n",
       "      <td>41930.0</td>\n",
       "      <td>2011</td>\n",
       "    </tr>\n",
       "    <tr>\n",
       "      <th>2</th>\n",
       "      <td>603</td>\n",
       "      <td>54475.0</td>\n",
       "      <td>2011</td>\n",
       "    </tr>\n",
       "    <tr>\n",
       "      <th>3</th>\n",
       "      <td>606</td>\n",
       "      <td>6386.0</td>\n",
       "      <td>2011</td>\n",
       "    </tr>\n",
       "    <tr>\n",
       "      <th>4</th>\n",
       "      <td>610</td>\n",
       "      <td>29111.0</td>\n",
       "      <td>2011</td>\n",
       "    </tr>\n",
       "  </tbody>\n",
       "</table>\n",
       "</div>"
      ],
      "text/plain": [
       "   pop_zip_code  population  pop_year\n",
       "0           601     18533.0      2011\n",
       "1           602     41930.0      2011\n",
       "2           603     54475.0      2011\n",
       "3           606      6386.0      2011\n",
       "4           610     29111.0      2011"
      ]
     },
     "execution_count": 3,
     "metadata": {},
     "output_type": "execute_result"
    }
   ],
   "source": [
    "for i in range(2012,2022):\n",
    "    print(i)\n",
    "    path = 'Population\\ACSST5Y'+str(i)+'.S0101-Data.csv'\n",
    "    pop_raw_new = pd.read_csv(path, low_memory=False)\n",
    "    pop_raw_new.rename(columns=pop_raw_new.iloc[0], inplace = True)\n",
    "    pop_raw_new = pop_raw_new.tail(-1)\n",
    "    pop_raw_new['pop_year'] = i\n",
    "    pop_raw_new['pop_zip_code'] = pop_raw_new['Geographic Area Name'].str[-5:].astype('int')\n",
    "    try: \n",
    "        pop_raw_new['population'] = pop_raw_new['Total!!Estimate!!Total population'].astype('float')\n",
    "    except:\n",
    "        pop_raw_new['population'] = pop_raw_new['Estimate!!Total!!Total population'].astype('float')\n",
    "    pop_raw_new =  pop_raw_new[['pop_zip_code','population','pop_year']]\n",
    "    pop_raw = pd.concat([pop_raw, pop_raw_new], ignore_index=True)\n",
    "\n",
    "print(pop_raw.shape)\n",
    "pop_raw.head()"
   ]
  },
  {
   "cell_type": "code",
   "execution_count": 4,
   "metadata": {},
   "outputs": [
    {
     "name": "stdout",
     "output_type": "stream",
     "text": [
      "2010\n",
      "2022\n",
      "2023\n",
      "(465690, 3)\n"
     ]
    },
    {
     "data": {
      "text/html": [
       "<div>\n",
       "<style scoped>\n",
       "    .dataframe tbody tr th:only-of-type {\n",
       "        vertical-align: middle;\n",
       "    }\n",
       "\n",
       "    .dataframe tbody tr th {\n",
       "        vertical-align: top;\n",
       "    }\n",
       "\n",
       "    .dataframe thead th {\n",
       "        text-align: right;\n",
       "    }\n",
       "</style>\n",
       "<table border=\"1\" class=\"dataframe\">\n",
       "  <thead>\n",
       "    <tr style=\"text-align: right;\">\n",
       "      <th></th>\n",
       "      <th>pop_zip_code</th>\n",
       "      <th>population</th>\n",
       "      <th>pop_year</th>\n",
       "    </tr>\n",
       "  </thead>\n",
       "  <tbody>\n",
       "    <tr>\n",
       "      <th>465685</th>\n",
       "      <td>99923</td>\n",
       "      <td>13.0</td>\n",
       "      <td>2023</td>\n",
       "    </tr>\n",
       "    <tr>\n",
       "      <th>465686</th>\n",
       "      <td>99925</td>\n",
       "      <td>917.0</td>\n",
       "      <td>2023</td>\n",
       "    </tr>\n",
       "    <tr>\n",
       "      <th>465687</th>\n",
       "      <td>99926</td>\n",
       "      <td>1445.0</td>\n",
       "      <td>2023</td>\n",
       "    </tr>\n",
       "    <tr>\n",
       "      <th>465688</th>\n",
       "      <td>99927</td>\n",
       "      <td>11.0</td>\n",
       "      <td>2023</td>\n",
       "    </tr>\n",
       "    <tr>\n",
       "      <th>465689</th>\n",
       "      <td>99929</td>\n",
       "      <td>2161.0</td>\n",
       "      <td>2023</td>\n",
       "    </tr>\n",
       "  </tbody>\n",
       "</table>\n",
       "</div>"
      ],
      "text/plain": [
       "        pop_zip_code  population  pop_year\n",
       "465685         99923        13.0      2023\n",
       "465686         99925       917.0      2023\n",
       "465687         99926      1445.0      2023\n",
       "465688         99927        11.0      2023\n",
       "465689         99929      2161.0      2023"
      ]
     },
     "execution_count": 4,
     "metadata": {},
     "output_type": "execute_result"
    }
   ],
   "source": [
    "# Add 2010 using 2011 data, 2022 and 2023 using 2021 values\n",
    "print('2010')\n",
    "path = 'Population\\ACSST5Y2011.S0101-Data.csv'\n",
    "pop_raw_new = pd.read_csv(path, low_memory=False)\n",
    "pop_raw_new.rename(columns=pop_raw_new.iloc[0], inplace = True)\n",
    "pop_raw_new = pop_raw_new.tail(-1)\n",
    "pop_raw_new['pop_year'] = 2010\n",
    "pop_raw_new['pop_zip_code'] = pop_raw_new['Geographic Area Name'].str[-5:].astype('int')\n",
    "try: \n",
    "    pop_raw_new['population'] = pop_raw_new['Total!!Estimate!!Total population'].astype('float')\n",
    "except:\n",
    "    pop_raw_new['population'] = pop_raw_new['Estimate!!Total!!Total population'].astype('float')\n",
    "pop_raw_new =  pop_raw_new[['pop_zip_code','population','pop_year']]\n",
    "pop_raw = pd.concat([pop_raw, pop_raw_new], ignore_index=True)\n",
    "\n",
    "for i in range(2022,2024):\n",
    "    print(i)\n",
    "    path = 'Population\\ACSST5Y2021.S0101-Data.csv'\n",
    "    pop_raw_new = pd.read_csv(path, low_memory=False)\n",
    "    pop_raw_new.rename(columns=pop_raw_new.iloc[0], inplace = True)\n",
    "    pop_raw_new = pop_raw_new.tail(-1)\n",
    "    pop_raw_new['pop_year'] = i\n",
    "    pop_raw_new['pop_zip_code'] = pop_raw_new['Geographic Area Name'].str[-5:].astype('int')\n",
    "    try: \n",
    "        pop_raw_new['population'] = pop_raw_new['Total!!Estimate!!Total population'].astype('float')\n",
    "    except:\n",
    "        pop_raw_new['population'] = pop_raw_new['Estimate!!Total!!Total population'].astype('float')\n",
    "    pop_raw_new =  pop_raw_new[['pop_zip_code','population','pop_year']]\n",
    "    pop_raw = pd.concat([pop_raw, pop_raw_new], ignore_index=True)\n",
    "print(pop_raw.shape)\n",
    "pop_raw.tail()"
   ]
  },
  {
   "cell_type": "code",
   "execution_count": 5,
   "metadata": {},
   "outputs": [],
   "source": [
    "pop_raw.to_csv('population_zip_year.csv')"
   ]
  },
  {
   "cell_type": "code",
   "execution_count": null,
   "metadata": {},
   "outputs": [],
   "source": []
  }
 ],
 "metadata": {
  "kernelspec": {
   "display_name": "geopandas_env",
   "language": "python",
   "name": "geopandas_env"
  },
  "language_info": {
   "codemirror_mode": {
    "name": "ipython",
    "version": 3
   },
   "file_extension": ".py",
   "mimetype": "text/x-python",
   "name": "python",
   "nbconvert_exporter": "python",
   "pygments_lexer": "ipython3",
   "version": "3.9.0"
  }
 },
 "nbformat": 4,
 "nbformat_minor": 4
}
